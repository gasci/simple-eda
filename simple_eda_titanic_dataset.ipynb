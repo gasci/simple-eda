{
  "nbformat": 4,
  "nbformat_minor": 0,
  "metadata": {
    "colab": {
      "name": "1_Titanic_Goktug_Asci.ipynb",
      "provenance": [],
      "collapsed_sections": [],
      "toc_visible": true
    },
    "kernelspec": {
      "name": "python3",
      "display_name": "Python 3"
    }
  },
  "cells": [
    {
      "cell_type": "markdown",
      "metadata": {
        "id": "1Jx35N6DyHnm"
      },
      "source": [
        "Author: Dr. Göktuğ Aşcı <br>\n",
        "Email: gok.asci@student.ie.edu <br>\n",
        "Date: 2021-02-06 <br>\n",
        "Language and Version: Python 3.8.5 <br>\n",
        "Licence: MIT License <br>\n",
        "Data: [Titanic Survivor Data](https://www.kaggle.com/c/titanic/data)"
      ]
    },
    {
      "cell_type": "markdown",
      "metadata": {
        "id": "LYv1R3R53SSW"
      },
      "source": [
        "## Question 1 - Exploratory Data Analysis"
      ]
    },
    {
      "cell_type": "markdown",
      "metadata": {
        "id": "X-U-M_3zx40U"
      },
      "source": [
        "### Data and Module Imports"
      ]
    },
    {
      "cell_type": "markdown",
      "metadata": {
        "id": "OMxzjPYelQYh"
      },
      "source": [
        "We are importing pandas, numpy, matplotlib and seaborn libraries for numerical computation and graphing in Python."
      ]
    },
    {
      "cell_type": "code",
      "metadata": {
        "id": "IM78UJdym5Zd"
      },
      "source": [
        "# Import required modules\n",
        "import pandas as pd\n",
        "import numpy as np\n",
        "import matplotlib.pyplot as plt\n",
        "import seaborn as sns"
      ],
      "execution_count": null,
      "outputs": []
    },
    {
      "cell_type": "markdown",
      "metadata": {
        "id": "c4a2Krb7lXz9"
      },
      "source": [
        "Read the csv file in the same directory with the PassengerId index column:"
      ]
    },
    {
      "cell_type": "code",
      "metadata": {
        "id": "H4gv7BYBv7OI",
        "colab": {
          "base_uri": "https://localhost:8080/",
          "height": 390
        },
        "outputId": "a2e142a6-0fd8-433e-c82b-51ead0aad0d4"
      },
      "source": [
        "# Question 1.1\n",
        "titanic = pd.read_csv('train.csv', index_col=\"PassengerId\")\n",
        "titanic.head(10)"
      ],
      "execution_count": null,
      "outputs": [
        {
          "output_type": "execute_result",
          "data": {
            "text/html": [
              "<div>\n",
              "<style scoped>\n",
              "    .dataframe tbody tr th:only-of-type {\n",
              "        vertical-align: middle;\n",
              "    }\n",
              "\n",
              "    .dataframe tbody tr th {\n",
              "        vertical-align: top;\n",
              "    }\n",
              "\n",
              "    .dataframe thead th {\n",
              "        text-align: right;\n",
              "    }\n",
              "</style>\n",
              "<table border=\"1\" class=\"dataframe\">\n",
              "  <thead>\n",
              "    <tr style=\"text-align: right;\">\n",
              "      <th></th>\n",
              "      <th>Survived</th>\n",
              "      <th>Pclass</th>\n",
              "      <th>Name</th>\n",
              "      <th>Sex</th>\n",
              "      <th>Age</th>\n",
              "      <th>SibSp</th>\n",
              "      <th>Parch</th>\n",
              "      <th>Ticket</th>\n",
              "      <th>Fare</th>\n",
              "      <th>Cabin</th>\n",
              "      <th>Embarked</th>\n",
              "    </tr>\n",
              "    <tr>\n",
              "      <th>PassengerId</th>\n",
              "      <th></th>\n",
              "      <th></th>\n",
              "      <th></th>\n",
              "      <th></th>\n",
              "      <th></th>\n",
              "      <th></th>\n",
              "      <th></th>\n",
              "      <th></th>\n",
              "      <th></th>\n",
              "      <th></th>\n",
              "      <th></th>\n",
              "    </tr>\n",
              "  </thead>\n",
              "  <tbody>\n",
              "    <tr>\n",
              "      <th>1</th>\n",
              "      <td>0</td>\n",
              "      <td>3</td>\n",
              "      <td>Braund, Mr. Owen Harris</td>\n",
              "      <td>male</td>\n",
              "      <td>22.0</td>\n",
              "      <td>1</td>\n",
              "      <td>0</td>\n",
              "      <td>A/5 21171</td>\n",
              "      <td>7.2500</td>\n",
              "      <td>NaN</td>\n",
              "      <td>S</td>\n",
              "    </tr>\n",
              "    <tr>\n",
              "      <th>2</th>\n",
              "      <td>1</td>\n",
              "      <td>1</td>\n",
              "      <td>Cumings, Mrs. John Bradley (Florence Briggs Th...</td>\n",
              "      <td>female</td>\n",
              "      <td>38.0</td>\n",
              "      <td>1</td>\n",
              "      <td>0</td>\n",
              "      <td>PC 17599</td>\n",
              "      <td>71.2833</td>\n",
              "      <td>C85</td>\n",
              "      <td>C</td>\n",
              "    </tr>\n",
              "    <tr>\n",
              "      <th>3</th>\n",
              "      <td>1</td>\n",
              "      <td>3</td>\n",
              "      <td>Heikkinen, Miss. Laina</td>\n",
              "      <td>female</td>\n",
              "      <td>26.0</td>\n",
              "      <td>0</td>\n",
              "      <td>0</td>\n",
              "      <td>STON/O2. 3101282</td>\n",
              "      <td>7.9250</td>\n",
              "      <td>NaN</td>\n",
              "      <td>S</td>\n",
              "    </tr>\n",
              "    <tr>\n",
              "      <th>4</th>\n",
              "      <td>1</td>\n",
              "      <td>1</td>\n",
              "      <td>Futrelle, Mrs. Jacques Heath (Lily May Peel)</td>\n",
              "      <td>female</td>\n",
              "      <td>35.0</td>\n",
              "      <td>1</td>\n",
              "      <td>0</td>\n",
              "      <td>113803</td>\n",
              "      <td>53.1000</td>\n",
              "      <td>C123</td>\n",
              "      <td>S</td>\n",
              "    </tr>\n",
              "    <tr>\n",
              "      <th>5</th>\n",
              "      <td>0</td>\n",
              "      <td>3</td>\n",
              "      <td>Allen, Mr. William Henry</td>\n",
              "      <td>male</td>\n",
              "      <td>35.0</td>\n",
              "      <td>0</td>\n",
              "      <td>0</td>\n",
              "      <td>373450</td>\n",
              "      <td>8.0500</td>\n",
              "      <td>NaN</td>\n",
              "      <td>S</td>\n",
              "    </tr>\n",
              "    <tr>\n",
              "      <th>6</th>\n",
              "      <td>0</td>\n",
              "      <td>3</td>\n",
              "      <td>Moran, Mr. James</td>\n",
              "      <td>male</td>\n",
              "      <td>NaN</td>\n",
              "      <td>0</td>\n",
              "      <td>0</td>\n",
              "      <td>330877</td>\n",
              "      <td>8.4583</td>\n",
              "      <td>NaN</td>\n",
              "      <td>Q</td>\n",
              "    </tr>\n",
              "    <tr>\n",
              "      <th>7</th>\n",
              "      <td>0</td>\n",
              "      <td>1</td>\n",
              "      <td>McCarthy, Mr. Timothy J</td>\n",
              "      <td>male</td>\n",
              "      <td>54.0</td>\n",
              "      <td>0</td>\n",
              "      <td>0</td>\n",
              "      <td>17463</td>\n",
              "      <td>51.8625</td>\n",
              "      <td>E46</td>\n",
              "      <td>S</td>\n",
              "    </tr>\n",
              "    <tr>\n",
              "      <th>8</th>\n",
              "      <td>0</td>\n",
              "      <td>3</td>\n",
              "      <td>Palsson, Master. Gosta Leonard</td>\n",
              "      <td>male</td>\n",
              "      <td>2.0</td>\n",
              "      <td>3</td>\n",
              "      <td>1</td>\n",
              "      <td>349909</td>\n",
              "      <td>21.0750</td>\n",
              "      <td>NaN</td>\n",
              "      <td>S</td>\n",
              "    </tr>\n",
              "    <tr>\n",
              "      <th>9</th>\n",
              "      <td>1</td>\n",
              "      <td>3</td>\n",
              "      <td>Johnson, Mrs. Oscar W (Elisabeth Vilhelmina Berg)</td>\n",
              "      <td>female</td>\n",
              "      <td>27.0</td>\n",
              "      <td>0</td>\n",
              "      <td>2</td>\n",
              "      <td>347742</td>\n",
              "      <td>11.1333</td>\n",
              "      <td>NaN</td>\n",
              "      <td>S</td>\n",
              "    </tr>\n",
              "    <tr>\n",
              "      <th>10</th>\n",
              "      <td>1</td>\n",
              "      <td>2</td>\n",
              "      <td>Nasser, Mrs. Nicholas (Adele Achem)</td>\n",
              "      <td>female</td>\n",
              "      <td>14.0</td>\n",
              "      <td>1</td>\n",
              "      <td>0</td>\n",
              "      <td>237736</td>\n",
              "      <td>30.0708</td>\n",
              "      <td>NaN</td>\n",
              "      <td>C</td>\n",
              "    </tr>\n",
              "  </tbody>\n",
              "</table>\n",
              "</div>"
            ],
            "text/plain": [
              "             Survived  Pclass  ... Cabin Embarked\n",
              "PassengerId                    ...               \n",
              "1                   0       3  ...   NaN        S\n",
              "2                   1       1  ...   C85        C\n",
              "3                   1       3  ...   NaN        S\n",
              "4                   1       1  ...  C123        S\n",
              "5                   0       3  ...   NaN        S\n",
              "6                   0       3  ...   NaN        Q\n",
              "7                   0       1  ...   E46        S\n",
              "8                   0       3  ...   NaN        S\n",
              "9                   1       3  ...   NaN        S\n",
              "10                  1       2  ...   NaN        C\n",
              "\n",
              "[10 rows x 11 columns]"
            ]
          },
          "metadata": {
            "tags": []
          },
          "execution_count": 2
        }
      ]
    },
    {
      "cell_type": "markdown",
      "metadata": {
        "id": "U6maaMwNnB1S"
      },
      "source": [
        "We are going to calculate and print percentages quite often. Therefore, I created custom functions to reduce repetitive code."
      ]
    },
    {
      "cell_type": "code",
      "metadata": {
        "id": "GVEnXuCorJch"
      },
      "source": [
        "# A custom function to calculate percentages\n",
        "def calc_perc(top, bottom, decimals=2):\n",
        "  return round(top/bottom * 100, decimals)"
      ],
      "execution_count": null,
      "outputs": []
    },
    {
      "cell_type": "code",
      "metadata": {
        "id": "Uxi6lxi9W3yD"
      },
      "source": [
        "# This function simply creates a prettier percentage print out of total for a binary value datasets\n",
        "def print_perc(series, key_list, key_name_list):\n",
        "  # Calculate seperate value counts for each type\n",
        "  series = series.value_counts(normalize=True)\n",
        "  # Create percentage values for each item\n",
        "  key_0_perc = calc_perc(series[key_list[0]], (series[key_list[1]] + series[key_list[0]]))\n",
        "  key_1_perc = calc_perc(series[key_list[1]], (series[key_list[1]] + series[key_list[0]]))\n",
        "  # Print values\n",
        "  print('{}: {}, {}: {}'.format(key_name_list[0], key_0_perc, key_name_list[1], key_1_perc))"
      ],
      "execution_count": null,
      "outputs": []
    },
    {
      "cell_type": "code",
      "metadata": {
        "colab": {
          "base_uri": "https://localhost:8080/"
        },
        "id": "erh94__K6QwG",
        "outputId": "67d2c4e9-1b14-46fa-fd4b-6a9d4a2c6171"
      },
      "source": [
        "# List all columns\n",
        "titanic.columns"
      ],
      "execution_count": null,
      "outputs": [
        {
          "output_type": "execute_result",
          "data": {
            "text/plain": [
              "Index(['Survived', 'Pclass', 'Name', 'Sex', 'Age', 'SibSp', 'Parch', 'Ticket',\n",
              "       'Fare', 'Cabin', 'Embarked'],\n",
              "      dtype='object')"
            ]
          },
          "metadata": {
            "tags": []
          },
          "execution_count": 5
        }
      ]
    },
    {
      "cell_type": "markdown",
      "metadata": {
        "id": "aBs0y7BdV5hl"
      },
      "source": [
        "The main columns that we are going to use through this assignment:\n",
        "* Survived: Survived the shipwreck or not (0 or 1)\n",
        "* Sex: Sex of the person\n",
        "* Age: Age of the person (It has missing values and needs to be imputed)\n",
        "* Pclass: Ticket class -> 1 = 1st, 2 = 2nd, 3 = 3rd\n",
        "* Embarked: Port of Embarkation -> C = Cherbourg, Q = Queenstown, S = Southampton\n",
        "* SibSp: # of siblings / spouses aboard the Titanic\n",
        "* Parch: # of parents / children aboard the Titanic\n",
        "\n",
        "You can find the [data set on Kaggle](https://www.kaggle.com/c/titanic/data) for more details."
      ]
    },
    {
      "cell_type": "markdown",
      "metadata": {
        "id": "fkIgslLOySdG"
      },
      "source": [
        "### Calculate Percentage of Survivors Out of Total"
      ]
    },
    {
      "cell_type": "markdown",
      "metadata": {
        "id": "aOjj3RUj55Xf"
      },
      "source": [
        "We make sure that we don't have null values in the Survived column"
      ]
    },
    {
      "cell_type": "code",
      "metadata": {
        "colab": {
          "base_uri": "https://localhost:8080/"
        },
        "id": "LnXeoNGDxCHQ",
        "outputId": "b5683628-8dc5-4d86-9e90-b93c6ff85038"
      },
      "source": [
        "# Check if the Survived column is complete\n",
        "titanic['Survived'].isnull().sum() # 0 means no null values"
      ],
      "execution_count": null,
      "outputs": [
        {
          "output_type": "execute_result",
          "data": {
            "text/plain": [
              "0"
            ]
          },
          "metadata": {
            "tags": []
          },
          "execution_count": 6
        }
      ]
    },
    {
      "cell_type": "markdown",
      "metadata": {
        "id": "ENxbJXcBmTXw"
      },
      "source": [
        "Thanks to our predefined function we can easily print percentages in binary columns with a simple function print_perc:"
      ]
    },
    {
      "cell_type": "code",
      "metadata": {
        "colab": {
          "base_uri": "https://localhost:8080/"
        },
        "id": "rH-7CPKt5dg8",
        "outputId": "19ebe225-d4f9-412d-c300-028efd9f8256"
      },
      "source": [
        "# Question 1.2.1\n",
        "# Percentage calculation\n",
        "survived_series = titanic['Survived']\n",
        "print_perc(survived_series, [1, 0], ['Survived %', 'Not survived %'])"
      ],
      "execution_count": null,
      "outputs": [
        {
          "output_type": "stream",
          "text": [
            "Survived %: 38.38, Not survived %: 61.62\n"
          ],
          "name": "stdout"
        }
      ]
    },
    {
      "cell_type": "markdown",
      "metadata": {
        "id": "MCOny-6Apvra"
      },
      "source": [
        "The Titanic shipwreck was a total diseaster, only 38.38% of people survived the accident."
      ]
    },
    {
      "cell_type": "markdown",
      "metadata": {
        "id": "_vcn_pA_ov63"
      },
      "source": [
        "### Calculate Percentage of Men and Women"
      ]
    },
    {
      "cell_type": "code",
      "metadata": {
        "colab": {
          "base_uri": "https://localhost:8080/"
        },
        "id": "tfpTkXxLnxwq",
        "outputId": "64043d7a-f212-4077-aab9-e3c2c22518d5"
      },
      "source": [
        "# All possible values of the Sex column\n",
        "titanic['Sex'].unique() # array([male, female])"
      ],
      "execution_count": null,
      "outputs": [
        {
          "output_type": "execute_result",
          "data": {
            "text/plain": [
              "array(['male', 'female'], dtype=object)"
            ]
          },
          "metadata": {
            "tags": []
          },
          "execution_count": 8
        }
      ]
    },
    {
      "cell_type": "code",
      "metadata": {
        "colab": {
          "base_uri": "https://localhost:8080/"
        },
        "id": "1gdPT4ptn6sh",
        "outputId": "86ee9491-27f4-4833-bdd0-f85c6ed2e3d4"
      },
      "source": [
        "# Question 1.2.2\n",
        "# Percentage calculation\n",
        "sex_series = titanic['Sex']\n",
        "print_perc(sex_series, ['male', 'female'], ['Male %', 'Female %'])"
      ],
      "execution_count": null,
      "outputs": [
        {
          "output_type": "stream",
          "text": [
            "Male %: 64.76, Female %: 35.24\n"
          ],
          "name": "stdout"
        }
      ]
    },
    {
      "cell_type": "markdown",
      "metadata": {
        "id": "yAspGMlepkvU"
      },
      "source": [
        "There are much more men than women in Titanic during that trip."
      ]
    },
    {
      "cell_type": "markdown",
      "metadata": {
        "id": "o4S0K-6xsogA"
      },
      "source": [
        "### Percentage of Survivors by Sex"
      ]
    },
    {
      "cell_type": "code",
      "metadata": {
        "colab": {
          "base_uri": "https://localhost:8080/"
        },
        "id": "-LlIBjSxZD58",
        "outputId": "4de08e3d-db0e-41a8-e71e-d129991d9fa8"
      },
      "source": [
        "# Question 1.3.1\n",
        "# Percentage calculation\n",
        "male_survived_series = titanic[titanic['Sex'] == 'male']['Survived']\n",
        "print_perc(male_survived_series, [1, 0], ['Survived male %', 'Not survived male %'])"
      ],
      "execution_count": null,
      "outputs": [
        {
          "output_type": "stream",
          "text": [
            "Survived male %: 18.89, Not survived male %: 81.11\n"
          ],
          "name": "stdout"
        }
      ]
    },
    {
      "cell_type": "code",
      "metadata": {
        "colab": {
          "base_uri": "https://localhost:8080/"
        },
        "id": "d0TzMGzQsn2S",
        "outputId": "ca675f66-38df-41b0-d448-fcc51c2f6130"
      },
      "source": [
        "# Question 1.3.2\n",
        "# Percentage calculation\n",
        "female_survived_series = titanic[titanic['Sex'] == 'female']['Survived']\n",
        "print_perc(female_survived_series, [1, 0], ['Survived female %', 'Not survived female %'])"
      ],
      "execution_count": null,
      "outputs": [
        {
          "output_type": "stream",
          "text": [
            "Survived female %: 74.2, Not survived female %: 25.8\n"
          ],
          "name": "stdout"
        }
      ]
    },
    {
      "cell_type": "markdown",
      "metadata": {
        "id": "yl0XVO3yqSZP"
      },
      "source": [
        "As we can see above, for an unknown reason (probably women have been given priority for rescue boats etc.) women have a much higher survival ratio compared to men."
      ]
    },
    {
      "cell_type": "markdown",
      "metadata": {
        "id": "Hb7TKf_gqPJA"
      },
      "source": [
        "### The Sex Distribution"
      ]
    },
    {
      "cell_type": "code",
      "metadata": {
        "colab": {
          "base_uri": "https://localhost:8080/"
        },
        "id": "r9pwRKR5Zhs1",
        "outputId": "d97b5e85-73a2-42dd-ff37-b7c96c92e6ba"
      },
      "source": [
        "# Question 1.3.3\n",
        "# Percentage calculation\n",
        "survived_sex_series = titanic[titanic['Survived'] == 1]['Sex']\n",
        "print_perc(survived_sex_series, ['female', 'male'], ['Survived female %', 'Survived male %'])"
      ],
      "execution_count": null,
      "outputs": [
        {
          "output_type": "stream",
          "text": [
            "Survived female %: 68.13, Survived male %: 31.87\n"
          ],
          "name": "stdout"
        }
      ]
    },
    {
      "cell_type": "markdown",
      "metadata": {
        "id": "Owbox38Dqwja"
      },
      "source": [
        "This data shows that more than 2/3 of people who survived the Titanic shipwreck were women."
      ]
    },
    {
      "cell_type": "markdown",
      "metadata": {
        "id": "SD5zEVNUtp3A"
      },
      "source": [
        "### Probability Sex, Survival Data Frame"
      ]
    },
    {
      "cell_type": "markdown",
      "metadata": {
        "id": "2MgzQ5dvBeAX"
      },
      "source": [
        "It is a good practice to create a copy of the imported data frame since we may use the intact version in different contexts."
      ]
    },
    {
      "cell_type": "code",
      "metadata": {
        "id": "YCJNXQjKPmbx"
      },
      "source": [
        "# Create a copy\n",
        "titanic_c1 = titanic.copy()\n",
        "\n",
        "# Calculate total person count for future use\n",
        "total_length = len(titanic_c1)"
      ],
      "execution_count": null,
      "outputs": []
    },
    {
      "cell_type": "markdown",
      "metadata": {
        "id": "RwgQM1gul_aJ"
      },
      "source": [
        "Create another column to store \"Not survived\" values which is going to be the exact opposite of the Survived column - We are going to keep this column for future use:"
      ]
    },
    {
      "cell_type": "code",
      "metadata": {
        "id": "IJldBzStmIdf"
      },
      "source": [
        "# Add another Not survived column to create the desired on the data frame \n",
        "titanic_c1.loc[titanic_c1['Survived'] == 0, 'Not survived'] = 1\n",
        "titanic_c1.loc[titanic_c1['Not survived'] != 1, 'Not survived'] = 0 # We know that there are no null values in this column\n",
        "titanic_c1['Not survived'] = titanic_c1['Not survived'].astype(np.int) # Turn float column to int"
      ],
      "execution_count": null,
      "outputs": []
    },
    {
      "cell_type": "markdown",
      "metadata": {
        "id": "FXc06PuimM5Z"
      },
      "source": [
        "Let's create a data frame showing the total survival ratio among different Sexes:"
      ]
    },
    {
      "cell_type": "code",
      "metadata": {
        "colab": {
          "base_uri": "https://localhost:8080/",
          "height": 142
        },
        "id": "9JO6iIJdlGfU",
        "outputId": "0e5b0e2e-5bae-40ff-b327-5c558b3f7208"
      },
      "source": [
        "# Question 1.4\n",
        "# Group by Sex -> Calculate sums for each cell -> Calculate the percentages\n",
        "sex_age_pclass_perc = titanic_c1.groupby(['Sex']).apply(lambda x: x.sum()).unstack()[['Survived', 'Not survived']].apply(lambda x: x * 100 / total_length)\n",
        "\n",
        "# Convert values to float and round to two decimals\n",
        "sex_age_pclass_perc.astype(float).round(2)"
      ],
      "execution_count": null,
      "outputs": [
        {
          "output_type": "execute_result",
          "data": {
            "text/html": [
              "<div>\n",
              "<style scoped>\n",
              "    .dataframe tbody tr th:only-of-type {\n",
              "        vertical-align: middle;\n",
              "    }\n",
              "\n",
              "    .dataframe tbody tr th {\n",
              "        vertical-align: top;\n",
              "    }\n",
              "\n",
              "    .dataframe thead th {\n",
              "        text-align: right;\n",
              "    }\n",
              "</style>\n",
              "<table border=\"1\" class=\"dataframe\">\n",
              "  <thead>\n",
              "    <tr style=\"text-align: right;\">\n",
              "      <th></th>\n",
              "      <th>Survived</th>\n",
              "      <th>Not survived</th>\n",
              "    </tr>\n",
              "    <tr>\n",
              "      <th>Sex</th>\n",
              "      <th></th>\n",
              "      <th></th>\n",
              "    </tr>\n",
              "  </thead>\n",
              "  <tbody>\n",
              "    <tr>\n",
              "      <th>female</th>\n",
              "      <td>26.15</td>\n",
              "      <td>9.09</td>\n",
              "    </tr>\n",
              "    <tr>\n",
              "      <th>male</th>\n",
              "      <td>12.23</td>\n",
              "      <td>52.53</td>\n",
              "    </tr>\n",
              "  </tbody>\n",
              "</table>\n",
              "</div>"
            ],
            "text/plain": [
              "        Survived  Not survived\n",
              "Sex                           \n",
              "female     26.15          9.09\n",
              "male       12.23         52.53"
            ]
          },
          "metadata": {
            "tags": []
          },
          "execution_count": 15
        }
      ]
    },
    {
      "cell_type": "markdown",
      "metadata": {
        "id": "osjr_w-QrH9x"
      },
      "source": [
        "###Probability Sex, Survival, Pclass Data Frame"
      ]
    },
    {
      "cell_type": "markdown",
      "metadata": {
        "id": "bVTiq0mjmhAB"
      },
      "source": [
        "We can create deeper subgroups just by adding new columns to the groupby method. In this case we are adding Pclass feature to create Pclass subgroups for the Survived column:"
      ]
    },
    {
      "cell_type": "code",
      "metadata": {
        "colab": {
          "base_uri": "https://localhost:8080/",
          "height": 266
        },
        "id": "WxPoEvRXrJSy",
        "outputId": "e9b376aa-ab73-4457-ab47-e5afb4f28a68"
      },
      "source": [
        "# Question 1.5\n",
        "# Group by Sex and Pclass -> Calculate sums for each cell -> Calculate the percentages\n",
        "sex_age_pclass_perc = titanic_c1.groupby(['Sex', 'Pclass']).apply(lambda x: x.sum()).unstack()[['Survived', 'Not survived']].apply(lambda x: x * 100 / total_length)\n",
        "\n",
        "# Convert values to float and round to two decimals\n",
        "sex_age_pclass_perc.astype(float).round(2)"
      ],
      "execution_count": null,
      "outputs": [
        {
          "output_type": "execute_result",
          "data": {
            "text/html": [
              "<div>\n",
              "<style scoped>\n",
              "    .dataframe tbody tr th:only-of-type {\n",
              "        vertical-align: middle;\n",
              "    }\n",
              "\n",
              "    .dataframe tbody tr th {\n",
              "        vertical-align: top;\n",
              "    }\n",
              "\n",
              "    .dataframe thead th {\n",
              "        text-align: right;\n",
              "    }\n",
              "</style>\n",
              "<table border=\"1\" class=\"dataframe\">\n",
              "  <thead>\n",
              "    <tr style=\"text-align: right;\">\n",
              "      <th></th>\n",
              "      <th></th>\n",
              "      <th>Survived</th>\n",
              "      <th>Not survived</th>\n",
              "    </tr>\n",
              "    <tr>\n",
              "      <th>Sex</th>\n",
              "      <th>Pclass</th>\n",
              "      <th></th>\n",
              "      <th></th>\n",
              "    </tr>\n",
              "  </thead>\n",
              "  <tbody>\n",
              "    <tr>\n",
              "      <th rowspan=\"3\" valign=\"top\">female</th>\n",
              "      <th>1</th>\n",
              "      <td>10.21</td>\n",
              "      <td>0.34</td>\n",
              "    </tr>\n",
              "    <tr>\n",
              "      <th>2</th>\n",
              "      <td>7.86</td>\n",
              "      <td>0.67</td>\n",
              "    </tr>\n",
              "    <tr>\n",
              "      <th>3</th>\n",
              "      <td>8.08</td>\n",
              "      <td>8.08</td>\n",
              "    </tr>\n",
              "    <tr>\n",
              "      <th rowspan=\"3\" valign=\"top\">male</th>\n",
              "      <th>1</th>\n",
              "      <td>5.05</td>\n",
              "      <td>8.64</td>\n",
              "    </tr>\n",
              "    <tr>\n",
              "      <th>2</th>\n",
              "      <td>1.91</td>\n",
              "      <td>10.21</td>\n",
              "    </tr>\n",
              "    <tr>\n",
              "      <th>3</th>\n",
              "      <td>5.27</td>\n",
              "      <td>33.67</td>\n",
              "    </tr>\n",
              "  </tbody>\n",
              "</table>\n",
              "</div>"
            ],
            "text/plain": [
              "               Survived  Not survived\n",
              "Sex    Pclass                        \n",
              "female 1          10.21          0.34\n",
              "       2           7.86          0.67\n",
              "       3           8.08          8.08\n",
              "male   1           5.05          8.64\n",
              "       2           1.91         10.21\n",
              "       3           5.27         33.67"
            ]
          },
          "metadata": {
            "tags": []
          },
          "execution_count": 16
        }
      ]
    },
    {
      "cell_type": "markdown",
      "metadata": {
        "id": "m8UHSvyntqhd"
      },
      "source": [
        "## Question 2 - Imputing the Age Column"
      ]
    },
    {
      "cell_type": "markdown",
      "metadata": {
        "id": "ehrB1uxvrgQH"
      },
      "source": [
        "Create another copy to work on:"
      ]
    },
    {
      "cell_type": "code",
      "metadata": {
        "id": "deAyCXU2XiIH"
      },
      "source": [
        "# Create a copy\n",
        "titanic_c2 = titanic.copy()"
      ],
      "execution_count": null,
      "outputs": []
    },
    {
      "cell_type": "markdown",
      "metadata": {
        "id": "1CHdPwnFrkFv"
      },
      "source": [
        "We are going to check how many null values exist in the Age column:"
      ]
    },
    {
      "cell_type": "code",
      "metadata": {
        "id": "xYcaIwLmm1nv",
        "colab": {
          "base_uri": "https://localhost:8080/"
        },
        "outputId": "78737273-e683-4339-9a6b-4443282a60bd"
      },
      "source": [
        "titanic_c2['Age'].isnull().sum()"
      ],
      "execution_count": null,
      "outputs": [
        {
          "output_type": "execute_result",
          "data": {
            "text/plain": [
              "177"
            ]
          },
          "metadata": {
            "tags": []
          },
          "execution_count": 18
        }
      ]
    },
    {
      "cell_type": "code",
      "metadata": {
        "colab": {
          "base_uri": "https://localhost:8080/"
        },
        "id": "iMOjEUOqt5f8",
        "outputId": "cb5d2554-c3be-4bd1-f458-4ef5931b8db2"
      },
      "source": [
        "# Let's have a deeper look\n",
        "titanic_c2.info()"
      ],
      "execution_count": null,
      "outputs": [
        {
          "output_type": "stream",
          "text": [
            "<class 'pandas.core.frame.DataFrame'>\n",
            "Int64Index: 891 entries, 1 to 891\n",
            "Data columns (total 11 columns):\n",
            " #   Column    Non-Null Count  Dtype  \n",
            "---  ------    --------------  -----  \n",
            " 0   Survived  891 non-null    int64  \n",
            " 1   Pclass    891 non-null    int64  \n",
            " 2   Name      891 non-null    object \n",
            " 3   Sex       891 non-null    object \n",
            " 4   Age       714 non-null    float64\n",
            " 5   SibSp     891 non-null    int64  \n",
            " 6   Parch     891 non-null    int64  \n",
            " 7   Ticket    891 non-null    object \n",
            " 8   Fare      891 non-null    float64\n",
            " 9   Cabin     204 non-null    object \n",
            " 10  Embarked  889 non-null    object \n",
            "dtypes: float64(2), int64(4), object(5)\n",
            "memory usage: 83.5+ KB\n"
          ],
          "name": "stdout"
        }
      ]
    },
    {
      "cell_type": "markdown",
      "metadata": {
        "id": "C7LhSLDnn9nK"
      },
      "source": [
        "Sadly, there are 177 null columns in the Age column. Let's discover the types of each column to be able to work on it for deeper analysis:"
      ]
    },
    {
      "cell_type": "code",
      "metadata": {
        "colab": {
          "base_uri": "https://localhost:8080/"
        },
        "id": "8yZ8wkqZbp82",
        "outputId": "104f9e38-2c0c-45d0-e385-ab4850f50447"
      },
      "source": [
        "# Check types of columns\n",
        "titanic_c2.dtypes"
      ],
      "execution_count": null,
      "outputs": [
        {
          "output_type": "execute_result",
          "data": {
            "text/plain": [
              "Survived      int64\n",
              "Pclass        int64\n",
              "Name         object\n",
              "Sex          object\n",
              "Age         float64\n",
              "SibSp         int64\n",
              "Parch         int64\n",
              "Ticket       object\n",
              "Fare        float64\n",
              "Cabin        object\n",
              "Embarked     object\n",
              "dtype: object"
            ]
          },
          "metadata": {
            "tags": []
          },
          "execution_count": 20
        }
      ]
    },
    {
      "cell_type": "markdown",
      "metadata": {
        "id": "5CPco7r4gh9z"
      },
      "source": [
        "Some values may be entered incorrectly. This is where the domain knowledge comes into play. But our case is quite simple here since it is enough to know that the Age column cannot be lower than zero."
      ]
    },
    {
      "cell_type": "code",
      "metadata": {
        "id": "qgdy3DiNgYLg",
        "colab": {
          "base_uri": "https://localhost:8080/"
        },
        "outputId": "ce16dd95-3880-4a63-9fe2-058f580da64c"
      },
      "source": [
        "# Check if there are values lower than zero -> there are no values lower than 0, this is great\n",
        "len(titanic_c2[titanic_c2['Age'] < 0])"
      ],
      "execution_count": null,
      "outputs": [
        {
          "output_type": "execute_result",
          "data": {
            "text/plain": [
              "0"
            ]
          },
          "metadata": {
            "tags": []
          },
          "execution_count": 21
        }
      ]
    },
    {
      "cell_type": "markdown",
      "metadata": {
        "id": "TQbIgkrdn7eP"
      },
      "source": [
        "Next, we are going to create a correlation heatmap among all feature to see if any feature affects the Age variable. \n",
        "Before checking columns that may have correlation with the Age column, we are removing a few irrelevant string columns:"
      ]
    },
    {
      "cell_type": "code",
      "metadata": {
        "id": "zBwvDikPaGlG"
      },
      "source": [
        "# Removing the string columns that are irrelevant for our analysis\n",
        "titanic_c2 = titanic_c2.drop(['Name', 'Ticket', 'Cabin'], 1)"
      ],
      "execution_count": null,
      "outputs": []
    },
    {
      "cell_type": "markdown",
      "metadata": {
        "id": "PJ_NHHdch_Vo"
      },
      "source": [
        "To include the Sex column in the correlation heatmap we need to convert the values into flag variables: (0: \"male\", 1: \"female\")"
      ]
    },
    {
      "cell_type": "code",
      "metadata": {
        "id": "DtuPEkLTiK6w"
      },
      "source": [
        "# Code Sex column as 0 and 1\n",
        "titanic_c2.loc[titanic_c2['Sex'] == 'male', 'Sex'] = 0\n",
        "titanic_c2.loc[titanic_c2['Sex'] == 'female', 'Sex'] = 1\n",
        "titanic_c2['Sex'] = titanic_c2['Sex'].astype(np.int) "
      ],
      "execution_count": null,
      "outputs": []
    },
    {
      "cell_type": "markdown",
      "metadata": {
        "id": "ufJXDzDzc1yH"
      },
      "source": [
        "People who come from different ports may have different age medians. For this possibility, let's try to include the Embarked column in the correlation heatmap by converting values into flag variables:"
      ]
    },
    {
      "cell_type": "code",
      "metadata": {
        "colab": {
          "base_uri": "https://localhost:8080/"
        },
        "id": "NGC3ncTzdHM7",
        "outputId": "bad584eb-d68e-4621-93a1-8f2c3bc8763f"
      },
      "source": [
        "# Check if we have null values in the Embarked column\n",
        "titanic_c2['Embarked'].isnull().sum()"
      ],
      "execution_count": null,
      "outputs": [
        {
          "output_type": "execute_result",
          "data": {
            "text/plain": [
              "2"
            ]
          },
          "metadata": {
            "tags": []
          },
          "execution_count": 24
        }
      ]
    },
    {
      "cell_type": "markdown",
      "metadata": {
        "id": "4K4URU3VdLcc"
      },
      "source": [
        "Since there are only two null values for the Embarked column, I am going to convert nulls into flag variables, too rather than removing the whole row that may cause information loss for other columns: (0: \"C\", 1: \"Q\", 2: \"S\", 3: nan)"
      ]
    },
    {
      "cell_type": "code",
      "metadata": {
        "id": "Sj17hyCHbfFg"
      },
      "source": [
        "# Convert the Embarked column as flag variables\n",
        "titanic_c2.loc[titanic_c2['Embarked'] == 'C', 'Embarked'] = 0\n",
        "titanic_c2.loc[titanic_c2['Embarked'] == 'Q', 'Embarked'] = 1\n",
        "titanic_c2.loc[titanic_c2['Embarked'] == 'S', 'Embarked'] = 2\n",
        "titanic_c2.loc[titanic_c2['Embarked'].isnull(), 'Embarked'] = 3 # There are only 2 nulls\n",
        "titanic_c2['Embarked'] = titanic_c2['Embarked'].astype(np.int) "
      ],
      "execution_count": null,
      "outputs": []
    },
    {
      "cell_type": "code",
      "metadata": {
        "colab": {
          "base_uri": "https://localhost:8080/",
          "height": 310
        },
        "id": "B-Gxxbo8a36q",
        "outputId": "98e1bef1-8850-458d-a378-b82d2b860315"
      },
      "source": [
        "# This heatmap show correlations between variables\n",
        "sns.heatmap(titanic_c2.corr(), annot=True);"
      ],
      "execution_count": null,
      "outputs": [
        {
          "output_type": "display_data",
          "data": {
            "image/png": "[encoded data removed]",
            "text/plain": [
              "<Figure size 432x288 with 2 Axes>"
            ]
          },
          "metadata": {
            "tags": [],
            "needs_background": "light"
          }
        }
      ]
    },
    {
      "cell_type": "markdown",
      "metadata": {
        "id": "nWNm6l27mT3A"
      },
      "source": [
        "Using the heatmap above, we can see that \"Pclass\", \"Parch\" and \"SibSp\" columns have slight correlations with the Age column."
      ]
    },
    {
      "cell_type": "markdown",
      "metadata": {
        "id": "ccSXfT3RrytW"
      },
      "source": [
        "Since we modified titanic_c2 to be able to get an accurate correlation table, we are going to create another copy for the final data frame:\n"
      ]
    },
    {
      "cell_type": "code",
      "metadata": {
        "id": "fHQC57qer4L4"
      },
      "source": [
        "# Create two copies\n",
        "titanic_c3 = titanic.copy()\n",
        "titanic_final = titanic.copy()"
      ],
      "execution_count": null,
      "outputs": []
    },
    {
      "cell_type": "markdown",
      "metadata": {
        "id": "TrxzTYCH1sIq"
      },
      "source": [
        "Let's observe subgroup medians:"
      ]
    },
    {
      "cell_type": "code",
      "metadata": {
        "colab": {
          "base_uri": "https://localhost:8080/"
        },
        "id": "KXW9djQR1osG",
        "outputId": "c5f0c97c-247b-4a84-ec83-343dc1f2c89f"
      },
      "source": [
        "titanic_c3.groupby([\"Pclass\", \"SibSp\", \"Parch\"])[\"Age\"].median()"
      ],
      "execution_count": null,
      "outputs": [
        {
          "output_type": "execute_result",
          "data": {
            "text/plain": [
              "Pclass  SibSp  Parch\n",
              "1       0      0        38.50\n",
              "               1        37.50\n",
              "               2        22.00\n",
              "        1      0        36.00\n",
              "               1        46.00\n",
              "               2        14.00\n",
              "               4        64.00\n",
              "        2      0        50.00\n",
              "               2        19.50\n",
              "        3      2        23.00\n",
              "2       0      0        31.00\n",
              "               1        26.50\n",
              "               2        13.00\n",
              "        1      0        29.50\n",
              "               1        23.50\n",
              "               2        24.50\n",
              "               3        54.00\n",
              "        2      0        24.00\n",
              "               1        13.50\n",
              "               3        24.00\n",
              "        3      0        30.00\n",
              "3       0      0        26.00\n",
              "               1        18.00\n",
              "               2        24.00\n",
              "               3        24.00\n",
              "               4        29.00\n",
              "               5        40.00\n",
              "        1      0        25.00\n",
              "               1        19.00\n",
              "               2        13.50\n",
              "               3        32.00\n",
              "               4        42.50\n",
              "               5        39.00\n",
              "               6        43.00\n",
              "        2      0        26.00\n",
              "               1         0.75\n",
              "               2        15.00\n",
              "        3      0        33.00\n",
              "               1         3.00\n",
              "               2         6.50\n",
              "        4      1         7.00\n",
              "               2         6.00\n",
              "        5      2        11.00\n",
              "        8      2          NaN\n",
              "Name: Age, dtype: float64"
            ]
          },
          "metadata": {
            "tags": []
          },
          "execution_count": 29
        }
      ]
    },
    {
      "cell_type": "markdown",
      "metadata": {
        "id": "6ooAKE2W6M54"
      },
      "source": [
        "We created subgroups of combinations \"Pclass\", \"Parch\" and \"SibSp\" medians and impute the Age values according to these subgroup medians:"
      ]
    },
    {
      "cell_type": "code",
      "metadata": {
        "id": "91IT23WlVyOX"
      },
      "source": [
        "# Impute the subgroups by the transform method\n",
        "titanic_final[\"Age\"] = titanic_final[\"Age\"].fillna(titanic_c3.groupby([\"Pclass\", \"SibSp\", \"Parch\"])[\"Age\"].transform(\"median\"))"
      ],
      "execution_count": null,
      "outputs": []
    },
    {
      "cell_type": "code",
      "metadata": {
        "colab": {
          "base_uri": "https://localhost:8080/"
        },
        "id": "mSspKNXO8RF9",
        "outputId": "039bb261-c6a1-4863-8b19-2060b7efdaef"
      },
      "source": [
        "# Check if we could impute all the values\n",
        "titanic_final[\"Age\"].isnull().sum()"
      ],
      "execution_count": null,
      "outputs": [
        {
          "output_type": "execute_result",
          "data": {
            "text/plain": [
              "7"
            ]
          },
          "metadata": {
            "tags": []
          },
          "execution_count": 31
        }
      ]
    },
    {
      "cell_type": "markdown",
      "metadata": {
        "id": "MwFeIk4-_ZRE"
      },
      "source": [
        "Ooops! Why couldn't we impute all the values at once? Since we have null values for the Age column, some subgroups (in this case the one at the bottom) don't even include any values for the Age column so that we cannot calculate median values for those."
      ]
    },
    {
      "cell_type": "markdown",
      "metadata": {
        "id": "cen14Z4q2hHL"
      },
      "source": [
        "Let's verify that the subgroup has 7 items:"
      ]
    },
    {
      "cell_type": "code",
      "metadata": {
        "colab": {
          "base_uri": "https://localhost:8080/",
          "height": 297
        },
        "id": "Y1WYrpVS2fDC",
        "outputId": "02a4c34b-58a2-4f23-af5e-b58ec8f743b7"
      },
      "source": [
        "# The subgroup with no median value since they all have null Age columns\n",
        "missing_subgroup = titanic_c3[(titanic_c3['Pclass'] == 3) & (titanic_c3['SibSp'] == 8) & (titanic_c3['Parch'] == 2)]\n",
        "missing_subgroup"
      ],
      "execution_count": null,
      "outputs": [
        {
          "output_type": "execute_result",
          "data": {
            "text/html": [
              "<div>\n",
              "<style scoped>\n",
              "    .dataframe tbody tr th:only-of-type {\n",
              "        vertical-align: middle;\n",
              "    }\n",
              "\n",
              "    .dataframe tbody tr th {\n",
              "        vertical-align: top;\n",
              "    }\n",
              "\n",
              "    .dataframe thead th {\n",
              "        text-align: right;\n",
              "    }\n",
              "</style>\n",
              "<table border=\"1\" class=\"dataframe\">\n",
              "  <thead>\n",
              "    <tr style=\"text-align: right;\">\n",
              "      <th></th>\n",
              "      <th>Survived</th>\n",
              "      <th>Pclass</th>\n",
              "      <th>Name</th>\n",
              "      <th>Sex</th>\n",
              "      <th>Age</th>\n",
              "      <th>SibSp</th>\n",
              "      <th>Parch</th>\n",
              "      <th>Ticket</th>\n",
              "      <th>Fare</th>\n",
              "      <th>Cabin</th>\n",
              "      <th>Embarked</th>\n",
              "    </tr>\n",
              "    <tr>\n",
              "      <th>PassengerId</th>\n",
              "      <th></th>\n",
              "      <th></th>\n",
              "      <th></th>\n",
              "      <th></th>\n",
              "      <th></th>\n",
              "      <th></th>\n",
              "      <th></th>\n",
              "      <th></th>\n",
              "      <th></th>\n",
              "      <th></th>\n",
              "      <th></th>\n",
              "    </tr>\n",
              "  </thead>\n",
              "  <tbody>\n",
              "    <tr>\n",
              "      <th>160</th>\n",
              "      <td>0</td>\n",
              "      <td>3</td>\n",
              "      <td>Sage, Master. Thomas Henry</td>\n",
              "      <td>male</td>\n",
              "      <td>NaN</td>\n",
              "      <td>8</td>\n",
              "      <td>2</td>\n",
              "      <td>CA. 2343</td>\n",
              "      <td>69.55</td>\n",
              "      <td>NaN</td>\n",
              "      <td>S</td>\n",
              "    </tr>\n",
              "    <tr>\n",
              "      <th>181</th>\n",
              "      <td>0</td>\n",
              "      <td>3</td>\n",
              "      <td>Sage, Miss. Constance Gladys</td>\n",
              "      <td>female</td>\n",
              "      <td>NaN</td>\n",
              "      <td>8</td>\n",
              "      <td>2</td>\n",
              "      <td>CA. 2343</td>\n",
              "      <td>69.55</td>\n",
              "      <td>NaN</td>\n",
              "      <td>S</td>\n",
              "    </tr>\n",
              "    <tr>\n",
              "      <th>202</th>\n",
              "      <td>0</td>\n",
              "      <td>3</td>\n",
              "      <td>Sage, Mr. Frederick</td>\n",
              "      <td>male</td>\n",
              "      <td>NaN</td>\n",
              "      <td>8</td>\n",
              "      <td>2</td>\n",
              "      <td>CA. 2343</td>\n",
              "      <td>69.55</td>\n",
              "      <td>NaN</td>\n",
              "      <td>S</td>\n",
              "    </tr>\n",
              "    <tr>\n",
              "      <th>325</th>\n",
              "      <td>0</td>\n",
              "      <td>3</td>\n",
              "      <td>Sage, Mr. George John Jr</td>\n",
              "      <td>male</td>\n",
              "      <td>NaN</td>\n",
              "      <td>8</td>\n",
              "      <td>2</td>\n",
              "      <td>CA. 2343</td>\n",
              "      <td>69.55</td>\n",
              "      <td>NaN</td>\n",
              "      <td>S</td>\n",
              "    </tr>\n",
              "    <tr>\n",
              "      <th>793</th>\n",
              "      <td>0</td>\n",
              "      <td>3</td>\n",
              "      <td>Sage, Miss. Stella Anna</td>\n",
              "      <td>female</td>\n",
              "      <td>NaN</td>\n",
              "      <td>8</td>\n",
              "      <td>2</td>\n",
              "      <td>CA. 2343</td>\n",
              "      <td>69.55</td>\n",
              "      <td>NaN</td>\n",
              "      <td>S</td>\n",
              "    </tr>\n",
              "    <tr>\n",
              "      <th>847</th>\n",
              "      <td>0</td>\n",
              "      <td>3</td>\n",
              "      <td>Sage, Mr. Douglas Bullen</td>\n",
              "      <td>male</td>\n",
              "      <td>NaN</td>\n",
              "      <td>8</td>\n",
              "      <td>2</td>\n",
              "      <td>CA. 2343</td>\n",
              "      <td>69.55</td>\n",
              "      <td>NaN</td>\n",
              "      <td>S</td>\n",
              "    </tr>\n",
              "    <tr>\n",
              "      <th>864</th>\n",
              "      <td>0</td>\n",
              "      <td>3</td>\n",
              "      <td>Sage, Miss. Dorothy Edith \"Dolly\"</td>\n",
              "      <td>female</td>\n",
              "      <td>NaN</td>\n",
              "      <td>8</td>\n",
              "      <td>2</td>\n",
              "      <td>CA. 2343</td>\n",
              "      <td>69.55</td>\n",
              "      <td>NaN</td>\n",
              "      <td>S</td>\n",
              "    </tr>\n",
              "  </tbody>\n",
              "</table>\n",
              "</div>"
            ],
            "text/plain": [
              "             Survived  Pclass  ... Cabin Embarked\n",
              "PassengerId                    ...               \n",
              "160                 0       3  ...   NaN        S\n",
              "181                 0       3  ...   NaN        S\n",
              "202                 0       3  ...   NaN        S\n",
              "325                 0       3  ...   NaN        S\n",
              "793                 0       3  ...   NaN        S\n",
              "847                 0       3  ...   NaN        S\n",
              "864                 0       3  ...   NaN        S\n",
              "\n",
              "[7 rows x 11 columns]"
            ]
          },
          "metadata": {
            "tags": []
          },
          "execution_count": 32
        }
      ]
    },
    {
      "cell_type": "code",
      "metadata": {
        "colab": {
          "base_uri": "https://localhost:8080/"
        },
        "id": "S8qsqWs425Kh",
        "outputId": "257fb1fb-521d-448e-e74a-10982739e5ff"
      },
      "source": [
        "len(missing_subgroup)"
      ],
      "execution_count": null,
      "outputs": [
        {
          "output_type": "execute_result",
          "data": {
            "text/plain": [
              "7"
            ]
          },
          "metadata": {
            "tags": []
          },
          "execution_count": 33
        }
      ]
    },
    {
      "cell_type": "markdown",
      "metadata": {
        "id": "70ReEuHQ2rVD"
      },
      "source": [
        "We should try different combinations of the most correlated features. We can check the effect of different columns by comparing model metrics with different features. I selected \"Pclass\" and \"Parch\" features in this case since they are among the most correlated features. But one can try different combinations."
      ]
    },
    {
      "cell_type": "code",
      "metadata": {
        "id": "EAqfdI2r-zIi"
      },
      "source": [
        "# Impute the subgroups by the transform method\n",
        "titanic_final[\"Age\"] = titanic_final[\"Age\"].fillna(titanic_c3.groupby([\"Pclass\", \"Parch\"])[\"Age\"].transform(\"median\"))"
      ],
      "execution_count": null,
      "outputs": []
    },
    {
      "cell_type": "code",
      "metadata": {
        "colab": {
          "base_uri": "https://localhost:8080/"
        },
        "id": "trMFykMw-A8y",
        "outputId": "253ab603-f313-4d74-eb2f-59798f3dd2f4"
      },
      "source": [
        "# Check if we could impute all the values\n",
        "titanic_final[\"Age\"].isnull().sum() # Congrats"
      ],
      "execution_count": null,
      "outputs": [
        {
          "output_type": "execute_result",
          "data": {
            "text/plain": [
              "0"
            ]
          },
          "metadata": {
            "tags": []
          },
          "execution_count": 35
        }
      ]
    },
    {
      "cell_type": "markdown",
      "metadata": {
        "id": "T0M6pBjbnUBg"
      },
      "source": [
        "Congragulations, we have succesfully imputed all missing age values for seperate subgroups! Let's have a final look at the data frame with the relevant columns:"
      ]
    },
    {
      "cell_type": "code",
      "metadata": {
        "colab": {
          "base_uri": "https://localhost:8080/",
          "height": 390
        },
        "id": "t830jPY-Biqf",
        "outputId": "bb255c6b-d3f2-4b53-ee35-238ff8e31468"
      },
      "source": [
        "# A final look at the data frame relevant columns\n",
        "titanic_final.head(10)"
      ],
      "execution_count": null,
      "outputs": [
        {
          "output_type": "execute_result",
          "data": {
            "text/html": [
              "<div>\n",
              "<style scoped>\n",
              "    .dataframe tbody tr th:only-of-type {\n",
              "        vertical-align: middle;\n",
              "    }\n",
              "\n",
              "    .dataframe tbody tr th {\n",
              "        vertical-align: top;\n",
              "    }\n",
              "\n",
              "    .dataframe thead th {\n",
              "        text-align: right;\n",
              "    }\n",
              "</style>\n",
              "<table border=\"1\" class=\"dataframe\">\n",
              "  <thead>\n",
              "    <tr style=\"text-align: right;\">\n",
              "      <th></th>\n",
              "      <th>Survived</th>\n",
              "      <th>Pclass</th>\n",
              "      <th>Name</th>\n",
              "      <th>Sex</th>\n",
              "      <th>Age</th>\n",
              "      <th>SibSp</th>\n",
              "      <th>Parch</th>\n",
              "      <th>Ticket</th>\n",
              "      <th>Fare</th>\n",
              "      <th>Cabin</th>\n",
              "      <th>Embarked</th>\n",
              "    </tr>\n",
              "    <tr>\n",
              "      <th>PassengerId</th>\n",
              "      <th></th>\n",
              "      <th></th>\n",
              "      <th></th>\n",
              "      <th></th>\n",
              "      <th></th>\n",
              "      <th></th>\n",
              "      <th></th>\n",
              "      <th></th>\n",
              "      <th></th>\n",
              "      <th></th>\n",
              "      <th></th>\n",
              "    </tr>\n",
              "  </thead>\n",
              "  <tbody>\n",
              "    <tr>\n",
              "      <th>1</th>\n",
              "      <td>0</td>\n",
              "      <td>3</td>\n",
              "      <td>Braund, Mr. Owen Harris</td>\n",
              "      <td>male</td>\n",
              "      <td>22.0</td>\n",
              "      <td>1</td>\n",
              "      <td>0</td>\n",
              "      <td>A/5 21171</td>\n",
              "      <td>7.2500</td>\n",
              "      <td>NaN</td>\n",
              "      <td>S</td>\n",
              "    </tr>\n",
              "    <tr>\n",
              "      <th>2</th>\n",
              "      <td>1</td>\n",
              "      <td>1</td>\n",
              "      <td>Cumings, Mrs. John Bradley (Florence Briggs Th...</td>\n",
              "      <td>female</td>\n",
              "      <td>38.0</td>\n",
              "      <td>1</td>\n",
              "      <td>0</td>\n",
              "      <td>PC 17599</td>\n",
              "      <td>71.2833</td>\n",
              "      <td>C85</td>\n",
              "      <td>C</td>\n",
              "    </tr>\n",
              "    <tr>\n",
              "      <th>3</th>\n",
              "      <td>1</td>\n",
              "      <td>3</td>\n",
              "      <td>Heikkinen, Miss. Laina</td>\n",
              "      <td>female</td>\n",
              "      <td>26.0</td>\n",
              "      <td>0</td>\n",
              "      <td>0</td>\n",
              "      <td>STON/O2. 3101282</td>\n",
              "      <td>7.9250</td>\n",
              "      <td>NaN</td>\n",
              "      <td>S</td>\n",
              "    </tr>\n",
              "    <tr>\n",
              "      <th>4</th>\n",
              "      <td>1</td>\n",
              "      <td>1</td>\n",
              "      <td>Futrelle, Mrs. Jacques Heath (Lily May Peel)</td>\n",
              "      <td>female</td>\n",
              "      <td>35.0</td>\n",
              "      <td>1</td>\n",
              "      <td>0</td>\n",
              "      <td>113803</td>\n",
              "      <td>53.1000</td>\n",
              "      <td>C123</td>\n",
              "      <td>S</td>\n",
              "    </tr>\n",
              "    <tr>\n",
              "      <th>5</th>\n",
              "      <td>0</td>\n",
              "      <td>3</td>\n",
              "      <td>Allen, Mr. William Henry</td>\n",
              "      <td>male</td>\n",
              "      <td>35.0</td>\n",
              "      <td>0</td>\n",
              "      <td>0</td>\n",
              "      <td>373450</td>\n",
              "      <td>8.0500</td>\n",
              "      <td>NaN</td>\n",
              "      <td>S</td>\n",
              "    </tr>\n",
              "    <tr>\n",
              "      <th>6</th>\n",
              "      <td>0</td>\n",
              "      <td>3</td>\n",
              "      <td>Moran, Mr. James</td>\n",
              "      <td>male</td>\n",
              "      <td>26.0</td>\n",
              "      <td>0</td>\n",
              "      <td>0</td>\n",
              "      <td>330877</td>\n",
              "      <td>8.4583</td>\n",
              "      <td>NaN</td>\n",
              "      <td>Q</td>\n",
              "    </tr>\n",
              "    <tr>\n",
              "      <th>7</th>\n",
              "      <td>0</td>\n",
              "      <td>1</td>\n",
              "      <td>McCarthy, Mr. Timothy J</td>\n",
              "      <td>male</td>\n",
              "      <td>54.0</td>\n",
              "      <td>0</td>\n",
              "      <td>0</td>\n",
              "      <td>17463</td>\n",
              "      <td>51.8625</td>\n",
              "      <td>E46</td>\n",
              "      <td>S</td>\n",
              "    </tr>\n",
              "    <tr>\n",
              "      <th>8</th>\n",
              "      <td>0</td>\n",
              "      <td>3</td>\n",
              "      <td>Palsson, Master. Gosta Leonard</td>\n",
              "      <td>male</td>\n",
              "      <td>2.0</td>\n",
              "      <td>3</td>\n",
              "      <td>1</td>\n",
              "      <td>349909</td>\n",
              "      <td>21.0750</td>\n",
              "      <td>NaN</td>\n",
              "      <td>S</td>\n",
              "    </tr>\n",
              "    <tr>\n",
              "      <th>9</th>\n",
              "      <td>1</td>\n",
              "      <td>3</td>\n",
              "      <td>Johnson, Mrs. Oscar W (Elisabeth Vilhelmina Berg)</td>\n",
              "      <td>female</td>\n",
              "      <td>27.0</td>\n",
              "      <td>0</td>\n",
              "      <td>2</td>\n",
              "      <td>347742</td>\n",
              "      <td>11.1333</td>\n",
              "      <td>NaN</td>\n",
              "      <td>S</td>\n",
              "    </tr>\n",
              "    <tr>\n",
              "      <th>10</th>\n",
              "      <td>1</td>\n",
              "      <td>2</td>\n",
              "      <td>Nasser, Mrs. Nicholas (Adele Achem)</td>\n",
              "      <td>female</td>\n",
              "      <td>14.0</td>\n",
              "      <td>1</td>\n",
              "      <td>0</td>\n",
              "      <td>237736</td>\n",
              "      <td>30.0708</td>\n",
              "      <td>NaN</td>\n",
              "      <td>C</td>\n",
              "    </tr>\n",
              "  </tbody>\n",
              "</table>\n",
              "</div>"
            ],
            "text/plain": [
              "             Survived  Pclass  ... Cabin Embarked\n",
              "PassengerId                    ...               \n",
              "1                   0       3  ...   NaN        S\n",
              "2                   1       1  ...   C85        C\n",
              "3                   1       3  ...   NaN        S\n",
              "4                   1       1  ...  C123        S\n",
              "5                   0       3  ...   NaN        S\n",
              "6                   0       3  ...   NaN        Q\n",
              "7                   0       1  ...   E46        S\n",
              "8                   0       3  ...   NaN        S\n",
              "9                   1       3  ...   NaN        S\n",
              "10                  1       2  ...   NaN        C\n",
              "\n",
              "[10 rows x 11 columns]"
            ]
          },
          "metadata": {
            "tags": []
          },
          "execution_count": 36
        }
      ]
    },
    {
      "cell_type": "markdown",
      "metadata": {
        "id": "CmXMpx4dosPp"
      },
      "source": [
        "Let's get important information regarding the final Data Frame"
      ]
    },
    {
      "cell_type": "code",
      "metadata": {
        "colab": {
          "base_uri": "https://localhost:8080/"
        },
        "id": "K_gGn20OoY2K",
        "outputId": "d338bdfa-7295-4b60-8798-8bd70bffa610"
      },
      "source": [
        "titanic_final.info()"
      ],
      "execution_count": null,
      "outputs": [
        {
          "output_type": "stream",
          "text": [
            "<class 'pandas.core.frame.DataFrame'>\n",
            "Int64Index: 891 entries, 1 to 891\n",
            "Data columns (total 11 columns):\n",
            " #   Column    Non-Null Count  Dtype  \n",
            "---  ------    --------------  -----  \n",
            " 0   Survived  891 non-null    int64  \n",
            " 1   Pclass    891 non-null    int64  \n",
            " 2   Name      891 non-null    object \n",
            " 3   Sex       891 non-null    object \n",
            " 4   Age       891 non-null    float64\n",
            " 5   SibSp     891 non-null    int64  \n",
            " 6   Parch     891 non-null    int64  \n",
            " 7   Ticket    891 non-null    object \n",
            " 8   Fare      891 non-null    float64\n",
            " 9   Cabin     204 non-null    object \n",
            " 10  Embarked  889 non-null    object \n",
            "dtypes: float64(2), int64(4), object(5)\n",
            "memory usage: 83.5+ KB\n"
          ],
          "name": "stdout"
        }
      ]
    },
    {
      "cell_type": "markdown",
      "metadata": {
        "id": "Nc2k5SdCojj3"
      },
      "source": [
        "As we can see above, we have succesfully imputed all the values in the Age column. Now, the data set is ready to be used for modelling."
      ]
    },
    {
      "cell_type": "markdown",
      "metadata": {
        "id": "-cIbz55MoqDq"
      },
      "source": [
        "Data imputing is one of the most important components of model training because if we put garbage in, we get garbage out. Usually, data engineers are responsible for this stage but data scientists may also have to prepare the data before the model training stage.  "
      ]
    }
  ]
}